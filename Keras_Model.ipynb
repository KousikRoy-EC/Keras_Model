{
 "cells": [
  {
   "cell_type": "code",
   "execution_count": 40,
   "id": "56cae16e",
   "metadata": {},
   "outputs": [],
   "source": [
    "from keras.models import Sequential;\n",
    "from keras.layers import Dense;"
   ]
  },
  {
   "cell_type": "code",
   "execution_count": 41,
   "id": "1615536f",
   "metadata": {},
   "outputs": [],
   "source": [
    "# creating a model\n",
    "\n",
    "model=Sequential();"
   ]
  },
  {
   "cell_type": "code",
   "execution_count": 42,
   "id": "6ce7486e",
   "metadata": {},
   "outputs": [],
   "source": [
    "# creating a dense layers\n",
    "\n",
    "layer_1=Dense(units=32,activation='relu',input_dim=30);\n",
    "layer_2=Dense(units=16,activation='relu');\n",
    "layer_3=Dense(units=1,activation='sigmoid');"
   ]
  },
  {
   "cell_type": "code",
   "execution_count": 43,
   "id": "70104af4",
   "metadata": {},
   "outputs": [],
   "source": [
    "# adding layers to model\n",
    "\n",
    "model.add(layer_1);\n",
    "model.add(layer_2);\n",
    "model.add(layer_3);"
   ]
  },
  {
   "cell_type": "code",
   "execution_count": 44,
   "id": "4c903ef6",
   "metadata": {},
   "outputs": [],
   "source": [
    "# compiling our models (assining optimizer,cost or loss fn, and metrics)\n",
    "\n",
    "model.compile(optimizer='adam',loss='binary_crossentropy',metrics=['accuracy']);"
   ]
  },
  {
   "cell_type": "code",
   "execution_count": 46,
   "id": "57ad78e4",
   "metadata": {},
   "outputs": [],
   "source": [
    "# loading the breast_cancer_Dataset data\n",
    "\n",
    "from sklearn.datasets import load_breast_cancer;\n",
    "from sklearn.model_selection import train_test_split;\n",
    "from sklearn.preprocessing import StandardScaler\n",
    "\n",
    "cancer = load_breast_cancer();\n",
    "x_train, x_test, y_train, y_test = train_test_split(cancer.data,cancer.target, test_size=0.25, random_state=0);\n",
    "\n",
    "\n",
    "scaler = StandardScaler();\n",
    "x_train=scaler.fit_transform(x_train);\n",
    "x_test=scaler.transform(x_test);"
   ]
  },
  {
   "cell_type": "code",
   "execution_count": 47,
   "id": "c6687952",
   "metadata": {},
   "outputs": [
    {
     "name": "stdout",
     "output_type": "stream",
     "text": [
      "Epoch 1/20\n",
      "9/9 [==============================] - 1s 26ms/step - loss: 0.6067 - accuracy: 0.6925 - val_loss: 0.4769 - val_accuracy: 0.8601\n",
      "Epoch 2/20\n",
      "9/9 [==============================] - 0s 7ms/step - loss: 0.4297 - accuracy: 0.8803 - val_loss: 0.3569 - val_accuracy: 0.8951\n",
      "Epoch 3/20\n",
      "9/9 [==============================] - 0s 13ms/step - loss: 0.3268 - accuracy: 0.9178 - val_loss: 0.2876 - val_accuracy: 0.9021\n",
      "Epoch 4/20\n",
      "9/9 [==============================] - 0s 9ms/step - loss: 0.2635 - accuracy: 0.9296 - val_loss: 0.2439 - val_accuracy: 0.9161\n",
      "Epoch 5/20\n",
      "9/9 [==============================] - 0s 11ms/step - loss: 0.2205 - accuracy: 0.9413 - val_loss: 0.2147 - val_accuracy: 0.9161\n",
      "Epoch 6/20\n",
      "9/9 [==============================] - 0s 12ms/step - loss: 0.1895 - accuracy: 0.9484 - val_loss: 0.1930 - val_accuracy: 0.9161\n",
      "Epoch 7/20\n",
      "9/9 [==============================] - 0s 9ms/step - loss: 0.1663 - accuracy: 0.9554 - val_loss: 0.1770 - val_accuracy: 0.9161\n",
      "Epoch 8/20\n",
      "9/9 [==============================] - 0s 9ms/step - loss: 0.1486 - accuracy: 0.9601 - val_loss: 0.1632 - val_accuracy: 0.9301\n",
      "Epoch 9/20\n",
      "9/9 [==============================] - 0s 8ms/step - loss: 0.1335 - accuracy: 0.9648 - val_loss: 0.1528 - val_accuracy: 0.9371\n",
      "Epoch 10/20\n",
      "9/9 [==============================] - 0s 7ms/step - loss: 0.1222 - accuracy: 0.9671 - val_loss: 0.1433 - val_accuracy: 0.9371\n",
      "Epoch 11/20\n",
      "9/9 [==============================] - 0s 10ms/step - loss: 0.1122 - accuracy: 0.9718 - val_loss: 0.1366 - val_accuracy: 0.9441\n",
      "Epoch 12/20\n",
      "9/9 [==============================] - 0s 7ms/step - loss: 0.1039 - accuracy: 0.9742 - val_loss: 0.1302 - val_accuracy: 0.9510\n",
      "Epoch 13/20\n",
      "9/9 [==============================] - 0s 7ms/step - loss: 0.0971 - accuracy: 0.9765 - val_loss: 0.1248 - val_accuracy: 0.9510\n",
      "Epoch 14/20\n",
      "9/9 [==============================] - 0s 8ms/step - loss: 0.0910 - accuracy: 0.9789 - val_loss: 0.1205 - val_accuracy: 0.9510\n",
      "Epoch 15/20\n",
      "9/9 [==============================] - 0s 7ms/step - loss: 0.0859 - accuracy: 0.9789 - val_loss: 0.1170 - val_accuracy: 0.9510\n",
      "Epoch 16/20\n",
      "9/9 [==============================] - 0s 7ms/step - loss: 0.0815 - accuracy: 0.9836 - val_loss: 0.1142 - val_accuracy: 0.9510\n",
      "Epoch 17/20\n",
      "9/9 [==============================] - 0s 7ms/step - loss: 0.0773 - accuracy: 0.9836 - val_loss: 0.1118 - val_accuracy: 0.9510\n",
      "Epoch 18/20\n",
      "9/9 [==============================] - 0s 7ms/step - loss: 0.0738 - accuracy: 0.9836 - val_loss: 0.1094 - val_accuracy: 0.9580\n",
      "Epoch 19/20\n",
      "9/9 [==============================] - 0s 7ms/step - loss: 0.0706 - accuracy: 0.9859 - val_loss: 0.1069 - val_accuracy: 0.9580\n",
      "Epoch 20/20\n",
      "9/9 [==============================] - 0s 6ms/step - loss: 0.0679 - accuracy: 0.9859 - val_loss: 0.1052 - val_accuracy: 0.9580\n"
     ]
    }
   ],
   "source": [
    "# fitting the data\n",
    "\n",
    "model.fit(x_train,y_train,epochs=20,batch_size=50,validation_data=(x_test,y_test));"
   ]
  },
  {
   "cell_type": "code",
   "execution_count": 51,
   "id": "82891adf",
   "metadata": {},
   "outputs": [
    {
     "name": "stdout",
     "output_type": "stream",
     "text": [
      "5/5 [==============================] - 0s 2ms/step\n",
      "5/5 [==============================] - 0s 2ms/step - loss: 0.1052 - accuracy: 0.9580\n"
     ]
    },
    {
     "data": {
      "text/plain": [
       "[0.10517764836549759, 0.9580419659614563]"
      ]
     },
     "execution_count": 51,
     "metadata": {},
     "output_type": "execute_result"
    }
   ],
   "source": [
    "# model accuracy\n",
    "\n",
    "predictions=model.predict(x_test);\n",
    "score=model.evaluate(x_test,y_test);\n",
    "score"
   ]
  }
 ],
 "metadata": {
  "kernelspec": {
   "display_name": "Python 3 (ipykernel)",
   "language": "python",
   "name": "python3"
  },
  "language_info": {
   "codemirror_mode": {
    "name": "ipython",
    "version": 3
   },
   "file_extension": ".py",
   "mimetype": "text/x-python",
   "name": "python",
   "nbconvert_exporter": "python",
   "pygments_lexer": "ipython3",
   "version": "3.9.12"
  }
 },
 "nbformat": 4,
 "nbformat_minor": 5
}
